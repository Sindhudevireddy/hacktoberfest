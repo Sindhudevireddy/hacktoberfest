{
  "nbformat": 4,
  "nbformat_minor": 0,
  "metadata": {
    "colab": {
      "provenance": [],
      "authorship_tag": "ABX9TyPBnAXFbM2Su/H1uTxWlyaC",
      "include_colab_link": true
    },
    "kernelspec": {
      "name": "python3",
      "display_name": "Python 3"
    },
    "language_info": {
      "name": "python"
    }
  },
  "cells": [
    {
      "cell_type": "markdown",
      "metadata": {
        "id": "view-in-github",
        "colab_type": "text"
      },
      "source": [
        "<a href=\"https://colab.research.google.com/github/Sindhudevireddy/hacktoberfest/blob/master/Copy_of_contact_book_py.ipynb\" target=\"_parent\"><img src=\"https://colab.research.google.com/assets/colab-badge.svg\" alt=\"Open In Colab\"/></a>"
      ]
    },
    {
      "cell_type": "code",
      "execution_count": null,
      "metadata": {
        "colab": {
          "base_uri": "https://localhost:8080/"
        },
        "id": "YEgsePO3Lx1x",
        "outputId": "b9094d44-4ff3-4140-ec08-4303442001a7"
      },
      "outputs": [
        {
          "output_type": "stream",
          "name": "stdout",
          "text": [
            "Name: sindhu\n",
            "Phone Number: 8328140775\n",
            "Name: praneeth\n",
            "Phone Number: 8074452353\n",
            "\n",
            "Name\t\t\tPhone Number\n",
            "\n",
            "sindhu\t\t\t8328140775\n",
            "praneeth\t\t\t8074452353\n",
            "\n",
            "Enter search term: sindhu\n",
            "Search result:\n",
            "Name: sindhu, Phone Number: 8328140775\n"
          ]
        }
      ],
      "source": [
        "names = []\n",
        "phone_numbers = []\n",
        "num = 2\n",
        "\n",
        "\n",
        "for i in range(num):\n",
        "    name = input(\"Name: \")\n",
        "    phone_number = input(\"Phone Number: \") # for convert to int => int(input(\"Phone Number: \")\n",
        "\n",
        "    names.append(name)\n",
        "    phone_numbers.append(phone_number)\n",
        "\n",
        "\n",
        "print(\"\\nName\\t\\t\\tPhone Number\\n\")\n",
        "\n",
        "for i in range(num):\n",
        "    print(\"{}\\t\\t\\t{}\".format(names[i], phone_numbers[i]))\n",
        "\n",
        "search_term = input(\"\\nEnter search term: \")\n",
        "\n",
        "print(\"Search result:\")\n",
        "\n",
        "if search_term in names:\n",
        "    index = names.index(search_term)\n",
        "    phone_number = phone_numbers[index]\n",
        "\n",
        "    print(\"Name: {}, Phone Number: {}\".format(search_term, phone_number))\n",
        "\n",
        "else:\n",
        "    print(\"Name Not Found\")\n"
      ]
    }
  ]
}